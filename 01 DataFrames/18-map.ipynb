{
 "cells": [
  {
   "cell_type": "code",
   "execution_count": 1,
   "metadata": {},
   "outputs": [],
   "source": [
    "import numpy as np\n",
    "import pandas as pd"
   ]
  },
  {
   "attachments": {},
   "cell_type": "markdown",
   "metadata": {},
   "source": [
    "### In Python, the Pandas map method substitutes the values in a Pandas series object according to a mapping that we define."
   ]
  },
  {
   "cell_type": "code",
   "execution_count": 2,
   "metadata": {},
   "outputs": [
    {
     "data": {
      "text/plain": [
       "0     Jan\n",
       "1     Feb\n",
       "2     Mar\n",
       "3     Apr\n",
       "4     May\n",
       "5     Jun\n",
       "6     Jul\n",
       "7     Aug\n",
       "8     Sep\n",
       "9     Oct\n",
       "10    Nov\n",
       "11    Dec\n",
       "dtype: object"
      ]
     },
     "execution_count": 2,
     "metadata": {},
     "output_type": "execute_result"
    }
   ],
   "source": [
    "months = pd.Series(['Jan','Feb','Mar','Apr','May','Jun','Jul','Aug','Sep','Oct','Nov','Dec'])\n",
    "months"
   ]
  },
  {
   "cell_type": "code",
   "execution_count": 3,
   "metadata": {},
   "outputs": [],
   "source": [
    "mapping = {\n",
    "    'Jan':'January',\n",
    "    'Feb':'February',\n",
    "    'Mar':'March',\n",
    "    'Apr':'April',\n",
    "    'May':'May',\n",
    "    'Jun':'June',\n",
    "    'Jul':'July',\n",
    "    'Aug':'August',\n",
    "    'Sep':'September',\n",
    "    'Oct':'October',\n",
    "    'Nov':'November',\n",
    "    'Dec':'December',\n",
    "}"
   ]
  },
  {
   "cell_type": "code",
   "execution_count": 4,
   "metadata": {},
   "outputs": [
    {
     "data": {
      "text/plain": [
       "0       January\n",
       "1      February\n",
       "2         March\n",
       "3         April\n",
       "4           May\n",
       "5          June\n",
       "6          July\n",
       "7        August\n",
       "8     September\n",
       "9       October\n",
       "10     November\n",
       "11     December\n",
       "dtype: object"
      ]
     },
     "execution_count": 4,
     "metadata": {},
     "output_type": "execute_result"
    }
   ],
   "source": [
    "months.map(mapping)"
   ]
  },
  {
   "attachments": {},
   "cell_type": "markdown",
   "metadata": {},
   "source": [
    "## Another example"
   ]
  },
  {
   "cell_type": "code",
   "execution_count": 5,
   "metadata": {},
   "outputs": [
    {
     "data": {
      "text/plain": [
       "0       Monday\n",
       "1      Tuesday\n",
       "2    Wednesday\n",
       "3     Thursday\n",
       "4       Friday\n",
       "5     Saturday\n",
       "6       Sunday\n",
       "7          NaN\n",
       "dtype: object"
      ]
     },
     "execution_count": 5,
     "metadata": {},
     "output_type": "execute_result"
    }
   ],
   "source": [
    "days = pd.Series([\n",
    "    'Monday',\n",
    "    'Tuesday',\n",
    "    'Wednesday',\n",
    "    'Thursday',\n",
    "    'Friday',\n",
    "    'Saturday',\n",
    "    'Sunday',\n",
    "    np.nan,\n",
    "])\n",
    "days"
   ]
  },
  {
   "cell_type": "code",
   "execution_count": 6,
   "metadata": {},
   "outputs": [
    {
     "data": {
      "text/plain": [
       "0       MONDAY\n",
       "1      TUESDAY\n",
       "2    WEDNESDAY\n",
       "3     THURSDAY\n",
       "4       FRIDAY\n",
       "5     SATURDAY\n",
       "6       SUNDAY\n",
       "7          NaN\n",
       "dtype: object"
      ]
     },
     "execution_count": 6,
     "metadata": {},
     "output_type": "execute_result"
    }
   ],
   "source": [
    "days.map(str.upper, na_action=\"ignore\")"
   ]
  },
  {
   "cell_type": "code",
   "execution_count": 7,
   "metadata": {},
   "outputs": [
    {
     "data": {
      "text/plain": [
       "0       Monday is a day of the week.\n",
       "1      Tuesday is a day of the week.\n",
       "2    Wednesday is a day of the week.\n",
       "3     Thursday is a day of the week.\n",
       "4       Friday is a day of the week.\n",
       "5     Saturday is a day of the week.\n",
       "6       Sunday is a day of the week.\n",
       "7          nan is a day of the week.\n",
       "dtype: object"
      ]
     },
     "execution_count": 7,
     "metadata": {},
     "output_type": "execute_result"
    }
   ],
   "source": [
    "days.map('{} is a day of the week.'.format)\n",
    "## or\n",
    "# days.apply('{} is a day of the week.'.format)"
   ]
  },
  {
   "cell_type": "code",
   "execution_count": 8,
   "metadata": {},
   "outputs": [
    {
     "data": {
      "text/plain": [
       "0       Monday is a day of the week.\n",
       "1      Tuesday is a day of the week.\n",
       "2    Wednesday is a day of the week.\n",
       "3     Thursday is a day of the week.\n",
       "4       Friday is a day of the week.\n",
       "5     Saturday is a day of the week.\n",
       "6       Sunday is a day of the week.\n",
       "7                                NaN\n",
       "dtype: object"
      ]
     },
     "execution_count": 8,
     "metadata": {},
     "output_type": "execute_result"
    }
   ],
   "source": [
    "days.map('{} is a day of the week.'.format, na_action=\"ignore\")"
   ]
  }
 ],
 "metadata": {
  "kernelspec": {
   "display_name": "py310",
   "language": "python",
   "name": "python3"
  },
  "language_info": {
   "codemirror_mode": {
    "name": "ipython",
    "version": 3
   },
   "file_extension": ".py",
   "mimetype": "text/x-python",
   "name": "python",
   "nbconvert_exporter": "python",
   "pygments_lexer": "ipython3",
   "version": "3.10.12"
  },
  "orig_nbformat": 4
 },
 "nbformat": 4,
 "nbformat_minor": 2
}
